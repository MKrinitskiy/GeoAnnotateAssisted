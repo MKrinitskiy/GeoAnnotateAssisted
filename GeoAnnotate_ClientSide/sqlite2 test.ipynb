{
 "cells": [
  {
   "cell_type": "code",
   "execution_count": 1,
   "metadata": {},
   "outputs": [],
   "source": [
    "import uuid"
   ]
  },
  {
   "cell_type": "code",
   "execution_count": 2,
   "metadata": {},
   "outputs": [],
   "source": [
    "import sqlite3"
   ]
  },
  {
   "cell_type": "code",
   "execution_count": 9,
   "metadata": {},
   "outputs": [],
   "source": [
    "from datetime import datetime"
   ]
  },
  {
   "cell_type": "code",
   "execution_count": 3,
   "metadata": {},
   "outputs": [],
   "source": [
    "import os"
   ]
  },
  {
   "cell_type": "code",
   "execution_count": 4,
   "metadata": {},
   "outputs": [],
   "source": [
    "curr_sqlite_db_file = './output/2020-04/20120610_MCC/testdb.db'"
   ]
  },
  {
   "cell_type": "code",
   "execution_count": 36,
   "metadata": {},
   "outputs": [],
   "source": [
    "with sqlite3.connect(curr_sqlite_db_file) as conn:\n",
    "    c = conn.cursor()\n",
    "    c.execute('''CREATE TABLE tracks (id INTEGER NOT NULL PRIMARY KEY AUTOINCREMENT UNIQUE, '''+\n",
    "              '''                     track_uid TEXT NOT NULL UNIQUE, ''' + \n",
    "              '''                     start_dt TEXT, ''' +\n",
    "              '''                     end_dt TEXT)''')\n",
    "    c.execute('''CREATE TABLE track_labels (id INTEGER NOT NULL PRIMARY KEY AUTOINCREMENT UNIQUE, ''' + \\\n",
    "              '''                           label_uid TEXT NOT NULL UNIQUE, ''' + \\\n",
    "              '''                           track_id INTEGER NOT NULL, ''' + \\\n",
    "              '''                           prev_label_uid TEXT, ''' + \\\n",
    "              '''                           dt TEXT NOT NULL)''')\n",
    "    conn.commit()"
   ]
  },
  {
   "cell_type": "code",
   "execution_count": 37,
   "metadata": {},
   "outputs": [],
   "source": [
    "def insert_label(sqlite_db_fname, track_uid, label_uid, label_dt, prev_label_uid = ''):\n",
    "    \n",
    "    insert_track_query_text = '''INSERT OR IGNORE INTO tracks (track_uid) ''' + \\\n",
    "                              '''       VALUES (\"%s\")'''\n",
    "    \n",
    "    insert_label_query_text = '''INSERT INTO track_labels (label_uid, track_id, prev_label_uid, dt) ''' + \\\n",
    "                              '''       SELECT \"%s\", tr.id, \"%s\", \"%s\" FROM  tracks tr ''' + \\\n",
    "                              '''       WHERE tr.track_uid = \"%s\"'''\n",
    "    \n",
    "    alter_track_start_dt_query_text = '''UPDATE tracks SET start_dt = strftime(\"%%Y-%%m-%%dT%%H:%%M:%%S\", (SELECT min(d1.dt) as dt_min FROM ''' + \\\n",
    "                                      '''    (SELECT datetime(dt) as dt FROM track_labels WHERE track_labels.track_id IN ''' + \\\n",
    "                                      '''        (SELECT id FROM tracks WHERE tracks.track_uid = \"%s\")''' + \\\n",
    "                                      '''    ) AS d1)) WHERE tracks.track_uid = \"%s\"'''\n",
    "    \n",
    "    alter_track_end_dt_query_text = '''UPDATE tracks SET end_dt = strftime(\"%%Y-%%m-%%dT%%H:%%M:%%S\", (SELECT max(d1.dt) as dt_max FROM ''' + \\\n",
    "                                    '''    (SELECT datetime(dt) as dt FROM track_labels WHERE track_labels.track_id IN ''' + \\\n",
    "                                    '''        (SELECT id FROM tracks WHERE tracks.track_uid = \"%s\")''' + \\\n",
    "                                    '''    ) AS d1)) WHERE tracks.track_uid = \"%s\"'''\n",
    "    \n",
    "    with sqlite3.connect(sqlite_db_fname) as conn:\n",
    "        c = conn.cursor()\n",
    "        c.execute(insert_track_query_text % (track_uid))\n",
    "        c.execute(insert_label_query_text % (label_uid,\n",
    "                                             prev_label_uid,\n",
    "                                             datetime.strftime(label_dt, DATETIME_FORMAT_STRING),\n",
    "                                             track_uid))\n",
    "        c.execute(alter_track_start_dt_query_text % (track_uid, track_uid))\n",
    "        c.execute(alter_track_end_dt_query_text % (track_uid, track_uid))\n",
    "        conn.commit()"
   ]
  },
  {
   "cell_type": "code",
   "execution_count": null,
   "metadata": {},
   "outputs": [],
   "source": []
  },
  {
   "cell_type": "code",
   "execution_count": 38,
   "metadata": {},
   "outputs": [],
   "source": [
    "for tr_i in range(5):\n",
    "    tr_uid = str(uuid.uuid4()).replace('-', '')\n",
    "    prev_label_uid = ''\n",
    "    for l_i in range(10):\n",
    "        label_uid = str(uuid.uuid4()).replace('-', '')\n",
    "        insert_label(curr_sqlite_db_file,\n",
    "                     tr_uid,\n",
    "                     label_uid,\n",
    "                     label_dt = datetime(2019, 7, 1, tr_i, l_i, 0),\n",
    "                     prev_label_uid = prev_label_uid)\n",
    "#         conn.commit()\n",
    "        prev_label_uid = label_uid"
   ]
  },
  {
   "cell_type": "code",
   "execution_count": null,
   "metadata": {},
   "outputs": [],
   "source": []
  },
  {
   "cell_type": "code",
   "execution_count": 8,
   "metadata": {},
   "outputs": [],
   "source": [
    "# def get_track_labels(sqlite_db_fname, track_uid):\n",
    "select_track_query_text = '''SELECT lab.label_uid, lab.prev_label_uid from track_labels lab ''' + \\\n",
    "        ''' INNER JOIN tracks tr ON tr.id = lab.track_id ''' + \\\n",
    "        ''' WHERE tr.track_uid = \"%s\" '''"
   ]
  },
  {
   "cell_type": "code",
   "execution_count": 9,
   "metadata": {},
   "outputs": [],
   "source": [
    "conn = sqlite3.connect(curr_sqlite_db_file)"
   ]
  },
  {
   "cell_type": "code",
   "execution_count": 10,
   "metadata": {},
   "outputs": [],
   "source": [
    "c = conn.cursor()"
   ]
  },
  {
   "cell_type": "code",
   "execution_count": 11,
   "metadata": {},
   "outputs": [],
   "source": [
    "res = c.execute(select_track_query_text % '06688a01bec7485fa73d7ca5221217f1')"
   ]
  },
  {
   "cell_type": "code",
   "execution_count": 13,
   "metadata": {},
   "outputs": [],
   "source": [
    "res_all = res.fetchall()"
   ]
  },
  {
   "cell_type": "code",
   "execution_count": 14,
   "metadata": {},
   "outputs": [
    {
     "data": {
      "text/plain": [
       "[('e7fb7c04d49c4bfeb593f36c761b4212', ''),\n",
       " ('92ad9b133f7c40b8957337f85a38e71a', 'e7fb7c04d49c4bfeb593f36c761b4212'),\n",
       " ('838376a670b7449ebf3ebb7ceb5f1346', '92ad9b133f7c40b8957337f85a38e71a'),\n",
       " ('6339b23dc10c413c83d9ba03ad664231', '838376a670b7449ebf3ebb7ceb5f1346'),\n",
       " ('180e69b958e144a5b5010d8a9ba6d253', '6339b23dc10c413c83d9ba03ad664231'),\n",
       " ('b9a7b97028634e74b9bd074fc9e5224f', '180e69b958e144a5b5010d8a9ba6d253'),\n",
       " ('1741b33c99544bf696f41438121a7c36', 'b9a7b97028634e74b9bd074fc9e5224f'),\n",
       " ('5c9ef4cb908f4920ad2aa768d9c42fa8', '1741b33c99544bf696f41438121a7c36'),\n",
       " ('50d279eae33a4548bd7a2b889c1a8c74', '5c9ef4cb908f4920ad2aa768d9c42fa8'),\n",
       " ('a09df7c3de0f4580b154b2fc31de0ffe', '50d279eae33a4548bd7a2b889c1a8c74')]"
      ]
     },
     "execution_count": 14,
     "metadata": {},
     "output_type": "execute_result"
    }
   ],
   "source": [
    "res_all"
   ]
  },
  {
   "cell_type": "code",
   "execution_count": null,
   "metadata": {},
   "outputs": [],
   "source": []
  },
  {
   "cell_type": "code",
   "execution_count": null,
   "metadata": {},
   "outputs": [],
   "source": []
  },
  {
   "cell_type": "code",
   "execution_count": null,
   "metadata": {},
   "outputs": [],
   "source": []
  },
  {
   "cell_type": "code",
   "execution_count": 46,
   "metadata": {},
   "outputs": [],
   "source": [
    "conn.close()"
   ]
  },
  {
   "cell_type": "code",
   "execution_count": null,
   "metadata": {},
   "outputs": [],
   "source": []
  }
 ],
 "metadata": {
  "kernelspec": {
   "display_name": "Python 3",
   "language": "python",
   "name": "python3"
  },
  "language_info": {
   "codemirror_mode": {
    "name": "ipython",
    "version": 3
   },
   "file_extension": ".py",
   "mimetype": "text/x-python",
   "name": "python",
   "nbconvert_exporter": "python",
   "pygments_lexer": "ipython3",
   "version": "3.7.3"
  }
 },
 "nbformat": 4,
 "nbformat_minor": 2
}
