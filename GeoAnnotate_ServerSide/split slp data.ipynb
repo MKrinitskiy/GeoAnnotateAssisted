{
 "cells": [
  {
   "cell_type": "code",
   "execution_count": 1,
   "metadata": {
    "collapsed": true
   },
   "outputs": [],
   "source": [
    "from netCDF4 import Dataset\n",
    "import numpy as np\n",
    "from datetime import datetime, timedelta"
   ]
  },
  {
   "cell_type": "code",
   "execution_count": 2,
   "metadata": {
    "collapsed": true
   },
   "outputs": [],
   "source": [
    "import sys, os, pathlib"
   ]
  },
  {
   "cell_type": "code",
   "execution_count": 3,
   "metadata": {
    "collapsed": true
   },
   "outputs": [],
   "source": [
    "from tqdm import tqdm"
   ]
  },
  {
   "cell_type": "code",
   "execution_count": 4,
   "metadata": {
    "collapsed": true
   },
   "outputs": [],
   "source": [
    "def DoesPathExistAndIsDirectory(pathStr):\n",
    "    if os.path.exists(pathStr) and os.path.isdir(pathStr):\n",
    "        return True\n",
    "    else:\n",
    "        return False\n",
    "\n",
    "\n",
    "def DoesPathExistAndIsFile(pathStr):\n",
    "    if os.path.exists(pathStr) and os.path.isfile(pathStr):\n",
    "        return True\n",
    "    else:\n",
    "        return False\n",
    "\n",
    "\n",
    "def EnsureDirectoryExists(pathStr):\n",
    "    if not DoesPathExistAndIsDirectory(pathStr):\n",
    "        try:\n",
    "            # os.mkdir(pathStr)\n",
    "            pathlib.Path(pathStr).mkdir(parents=True, exist_ok=True)\n",
    "            return True\n",
    "        except Exception as ex:\n",
    "            err_fname = './errors.log'\n",
    "            exc_type, exc_value, exc_traceback = sys.exc_info()\n",
    "            with open(err_fname, 'a') as errf:\n",
    "                traceback.print_tb(exc_traceback, limit=None, file=errf)\n",
    "                traceback.print_exception(exc_type, exc_value, exc_traceback, limit=None, file=errf)\n",
    "            print(str(ex))\n",
    "            print('the directory you are trying to place a file to doesn\\'t exist and cannot be created:\\n%s' % pathStr)\n",
    "            raise FileNotFoundError('the directory you are trying to place a file to doesn\\'t exist and cannot be created:')\n",
    "    else:\n",
    "        return True"
   ]
  },
  {
   "cell_type": "code",
   "execution_count": 5,
   "metadata": {
    "collapsed": true
   },
   "outputs": [],
   "source": [
    "ds = Dataset('./ERA5_slp.nc', 'r')"
   ]
  },
  {
   "cell_type": "code",
   "execution_count": 6,
   "metadata": {},
   "outputs": [
    {
     "data": {
      "text/plain": [
       "OrderedDict([('longitude', <class 'netCDF4._netCDF4.Variable'>\n",
       "              float32 longitude(longitude)\n",
       "                  units: degrees_east\n",
       "                  long_name: longitude\n",
       "              unlimited dimensions: \n",
       "              current shape = (1440,)\n",
       "              filling off), ('latitude', <class 'netCDF4._netCDF4.Variable'>\n",
       "              float32 latitude(latitude)\n",
       "                  units: degrees_north\n",
       "                  long_name: latitude\n",
       "              unlimited dimensions: \n",
       "              current shape = (721,)\n",
       "              filling off), ('time', <class 'netCDF4._netCDF4.Variable'>\n",
       "              int32 time(time)\n",
       "                  units: hours since 1900-01-01 00:00:00.0\n",
       "                  long_name: time\n",
       "                  calendar: gregorian\n",
       "              unlimited dimensions: \n",
       "              current shape = (24,)\n",
       "              filling off), ('msl', <class 'netCDF4._netCDF4.Variable'>\n",
       "              int16 msl(time, latitude, longitude)\n",
       "                  scale_factor: 0.14212686738\n",
       "                  add_offset: 100157.928937\n",
       "                  _FillValue: -32767\n",
       "                  missing_value: -32767\n",
       "                  units: Pa\n",
       "                  long_name: Mean sea level pressure\n",
       "                  standard_name: air_pressure_at_mean_sea_level\n",
       "              unlimited dimensions: \n",
       "              current shape = (24, 721, 1440)\n",
       "              filling off)])"
      ]
     },
     "execution_count": 6,
     "metadata": {},
     "output_type": "execute_result"
    }
   ],
   "source": [
    "ds.variables"
   ]
  },
  {
   "cell_type": "code",
   "execution_count": 7,
   "metadata": {
    "collapsed": true
   },
   "outputs": [],
   "source": [
    "datetimes_int = ds.variables['time'][:]\n",
    "datetimes_int = [int(t) for t in datetimes_int]"
   ]
  },
  {
   "cell_type": "code",
   "execution_count": 8,
   "metadata": {
    "collapsed": true
   },
   "outputs": [],
   "source": [
    "dt0 = datetime(1900, 1, 1)"
   ]
  },
  {
   "cell_type": "code",
   "execution_count": 9,
   "metadata": {
    "collapsed": true
   },
   "outputs": [],
   "source": [
    "datetimes = [dt0 + timedelta(hours=d) for d in datetimes_int]"
   ]
  },
  {
   "cell_type": "code",
   "execution_count": 10,
   "metadata": {},
   "outputs": [
    {
     "data": {
      "text/plain": [
       "datetime.datetime(2004, 1, 30, 0, 0)"
      ]
     },
     "execution_count": 10,
     "metadata": {},
     "output_type": "execute_result"
    }
   ],
   "source": [
    "datetimes[0]"
   ]
  },
  {
   "cell_type": "code",
   "execution_count": 11,
   "metadata": {},
   "outputs": [
    {
     "data": {
      "text/plain": [
       "(24, 721, 1440)"
      ]
     },
     "execution_count": 11,
     "metadata": {},
     "output_type": "execute_result"
    }
   ],
   "source": [
    "slp_data = ds.variables['msl'][:]\n",
    "slp_data.shape"
   ]
  },
  {
   "cell_type": "code",
   "execution_count": 12,
   "metadata": {},
   "outputs": [
    {
     "data": {
      "text/plain": [
       "(721,)"
      ]
     },
     "execution_count": 12,
     "metadata": {},
     "output_type": "execute_result"
    }
   ],
   "source": [
    "lats = ds.variables['latitude'][:]\n",
    "lats.shape"
   ]
  },
  {
   "cell_type": "code",
   "execution_count": 13,
   "metadata": {},
   "outputs": [
    {
     "data": {
      "text/plain": [
       "(1440,)"
      ]
     },
     "execution_count": 13,
     "metadata": {},
     "output_type": "execute_result"
    }
   ],
   "source": [
    "lons = ds.variables['longitude'][:]\n",
    "lons.shape"
   ]
  },
  {
   "cell_type": "code",
   "execution_count": 14,
   "metadata": {
    "collapsed": true
   },
   "outputs": [],
   "source": [
    "ds.close()"
   ]
  },
  {
   "cell_type": "code",
   "execution_count": 15,
   "metadata": {
    "collapsed": true
   },
   "outputs": [],
   "source": [
    "del ds"
   ]
  },
  {
   "cell_type": "code",
   "execution_count": 16,
   "metadata": {
    "collapsed": true
   },
   "outputs": [],
   "source": [
    "dt_idx = 0\n",
    "dt = datetimes[dt_idx]"
   ]
  },
  {
   "cell_type": "code",
   "execution_count": 17,
   "metadata": {},
   "outputs": [
    {
     "data": {
      "text/plain": [
       "datetime.datetime(2004, 1, 30, 0, 0)"
      ]
     },
     "execution_count": 17,
     "metadata": {},
     "output_type": "execute_result"
    }
   ],
   "source": [
    "dt"
   ]
  },
  {
   "cell_type": "code",
   "execution_count": 19,
   "metadata": {},
   "outputs": [
    {
     "data": {
      "text/plain": [
       "'./2004_split/era5_SLP-2004-01-30-00.nc'"
      ]
     },
     "execution_count": 19,
     "metadata": {},
     "output_type": "execute_result"
    }
   ],
   "source": [
    "fname = './%04d_split/era5_SLP-%04d-%02d-%02d-%02d.nc' % (dt.year, dt.year, dt.month, dt.day, dt.hour)\n",
    "fname"
   ]
  },
  {
   "cell_type": "code",
   "execution_count": 21,
   "metadata": {},
   "outputs": [
    {
     "name": "stderr",
     "output_type": "stream",
     "text": [
      "100%|██████████| 24/24 [00:01<00:00, 22.43it/s]\n"
     ]
    }
   ],
   "source": [
    "for dt_idx in tqdm(range(len(datetimes_int)), total=len(datetimes_int)):\n",
    "    dt = datetimes[dt_idx]\n",
    "    directory = './slp/%04d_split/' % (dt.year)\n",
    "    EnsureDirectoryExists(directory)\n",
    "    fname = os.path.join(directory, 'era5_SLP-%04d-%02d-%02d-%02d.nc' % (dt.year, dt.month, dt.day, dt.hour))\n",
    "    \n",
    "    ds_out = Dataset(fname, 'w')\n",
    "    datetimedim = ds_out.createDimension('time_dim', size = 1)\n",
    "    lats_dim = ds_out.createDimension('lat_dim', size = lats.shape[0])\n",
    "    lons_dim = ds_out.createDimension('lon_dim', size = lons.shape[0])\n",
    "    datetimes_var = ds_out.createVariable('time','int32',('time_dim',))\n",
    "    lats_var = ds_out.createVariable('latitude','float32',('lat_dim',))\n",
    "    lons_var = ds_out.createVariable('longitude','float32',('lon_dim',))\n",
    "    data_array = ds_out.createVariable('msl','float32',('time_dim','lat_dim','lon_dim',),least_significant_digit=17)\n",
    "    ds_out.description = 'SLP sliced data'\n",
    "    ds_out.history = 'Created ' + str(datetime.now())\n",
    "    lats_var.units = 'degrees north'\n",
    "    lons_var.units = 'degrees east'\n",
    "    datetimes_var.units = 'hours since 1900-01-01 00:00:00.0'\n",
    "    datetimes_var.calendar = 'gregorian'\n",
    "\n",
    "    lats_var[:] = lats\n",
    "    lons_var[:] = lons\n",
    "    datetimes_var[:] = datetimes_int[dt_idx]\n",
    "    data_array[:] = slp_data[dt_idx]\n",
    "\n",
    "    ds_out.close()"
   ]
  },
  {
   "cell_type": "code",
   "execution_count": null,
   "metadata": {
    "collapsed": true
   },
   "outputs": [],
   "source": []
  }
 ],
 "metadata": {
  "kernelspec": {
   "display_name": "Python 3",
   "language": "python",
   "name": "python3"
  },
  "language_info": {
   "codemirror_mode": {
    "name": "ipython",
    "version": 3
   },
   "file_extension": ".py",
   "mimetype": "text/x-python",
   "name": "python",
   "nbconvert_exporter": "python",
   "pygments_lexer": "ipython3",
   "version": "3.5.3"
  }
 },
 "nbformat": 4,
 "nbformat_minor": 2
}
